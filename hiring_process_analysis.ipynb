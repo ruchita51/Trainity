{
 "cells": [
  {
   "cell_type": "code",
   "execution_count": 1,
   "id": "4e03aedc",
   "metadata": {},
   "outputs": [],
   "source": [
    "# import the required library\n",
    "import pandas as pd\n",
    "import numpy as np\n",
    "import seaborn as sns\n",
    "import matplotlib.pyplot as plt\n",
    "import warnings\n",
    "warnings.filterwarnings('ignore')"
   ]
  },
  {
   "cell_type": "markdown",
   "id": "2c9d98d4",
   "metadata": {},
   "source": [
    "# load the data"
   ]
  },
  {
   "cell_type": "code",
   "execution_count": 2,
   "id": "50a640b0",
   "metadata": {},
   "outputs": [
    {
     "name": "stdout",
     "output_type": "stream",
     "text": [
      "      application_id  Interview Taken on    Status event_name  \\\n",
      "0             383422 2014-05-01 11:40:00     Hired       Male   \n",
      "1             907518 2014-05-06 08:08:00     Hired     Female   \n",
      "2             176719 2014-05-06 08:08:00  Rejected       Male   \n",
      "3             429799 2014-05-02 16:28:00  Rejected     Female   \n",
      "4             253651 2014-05-02 16:32:00     Hired       Male   \n",
      "...              ...                 ...       ...        ...   \n",
      "7163          493131 2014-08-28 17:32:00     Hired       Male   \n",
      "7164          214261 2014-08-31 01:36:00     Hired     Female   \n",
      "7165          932441 2014-08-31 01:37:00     Hired       Male   \n",
      "7166           39010 2014-08-31 01:38:00  Rejected       Male   \n",
      "7167          686055 2014-08-26 12:14:00     Hired       Male   \n",
      "\n",
      "                 Department Post Name  Offered Salary  \n",
      "0        Service Department        c8         56553.0  \n",
      "1        Service Department        c5         22075.0  \n",
      "2        Service Department        c5         70069.0  \n",
      "3     Operations Department        i4          3207.0  \n",
      "4     Operations Department        i4         29668.0  \n",
      "...                     ...       ...             ...  \n",
      "7163     Service Department        c9         49282.0  \n",
      "7164     Service Department        c5         57742.0  \n",
      "7165     Service Department        c5         69932.0  \n",
      "7166     Service Department        c5         14489.0  \n",
      "7167  Operations Department        c5         54201.0  \n",
      "\n",
      "[7168 rows x 7 columns]\n"
     ]
    }
   ],
   "source": [
    "df = pd.read_excel(r'D:\\Sql_trainity\\Statistics_new.xlsx')\n",
    "print(df)"
   ]
  },
  {
   "cell_type": "code",
   "execution_count": 3,
   "id": "40c6a575",
   "metadata": {},
   "outputs": [
    {
     "data": {
      "text/plain": [
       "Index(['application_id', 'Interview Taken on', 'Status', 'event_name',\n",
       "       'Department', 'Post Name', 'Offered Salary'],\n",
       "      dtype='object')"
      ]
     },
     "execution_count": 3,
     "metadata": {},
     "output_type": "execute_result"
    }
   ],
   "source": [
    "# check the columns name\n",
    "df.columns"
   ]
  },
  {
   "cell_type": "code",
   "execution_count": 4,
   "id": "9e3f4f0f",
   "metadata": {},
   "outputs": [
    {
     "data": {
      "text/plain": [
       "(7168, 7)"
      ]
     },
     "execution_count": 4,
     "metadata": {},
     "output_type": "execute_result"
    }
   ],
   "source": [
    "#check the shape and size of our dataset\n",
    "df.shape"
   ]
  },
  {
   "cell_type": "code",
   "execution_count": 5,
   "id": "000afd74",
   "metadata": {},
   "outputs": [
    {
     "data": {
      "text/plain": [
       "application_id        0\n",
       "Interview Taken on    0\n",
       "Status                0\n",
       "event_name            0\n",
       "Department            0\n",
       "Post Name             0\n",
       "Offered Salary        1\n",
       "dtype: int64"
      ]
     },
     "execution_count": 5,
     "metadata": {},
     "output_type": "execute_result"
    }
   ],
   "source": [
    "# check the nullvalue by isnull function\n",
    "df.isnull().sum()"
   ]
  },
  {
   "cell_type": "code",
   "execution_count": 6,
   "id": "ba9ad050",
   "metadata": {},
   "outputs": [
    {
     "data": {
      "text/html": [
       "<div>\n",
       "<style scoped>\n",
       "    .dataframe tbody tr th:only-of-type {\n",
       "        vertical-align: middle;\n",
       "    }\n",
       "\n",
       "    .dataframe tbody tr th {\n",
       "        vertical-align: top;\n",
       "    }\n",
       "\n",
       "    .dataframe thead th {\n",
       "        text-align: right;\n",
       "    }\n",
       "</style>\n",
       "<table border=\"1\" class=\"dataframe\">\n",
       "  <thead>\n",
       "    <tr style=\"text-align: right;\">\n",
       "      <th></th>\n",
       "      <th>application_id</th>\n",
       "      <th>Interview Taken on</th>\n",
       "      <th>Status</th>\n",
       "      <th>event_name</th>\n",
       "      <th>Department</th>\n",
       "      <th>Post Name</th>\n",
       "      <th>Offered Salary</th>\n",
       "    </tr>\n",
       "  </thead>\n",
       "  <tbody>\n",
       "    <tr>\n",
       "      <th>15</th>\n",
       "      <td>195323</td>\n",
       "      <td>2014-05-09 12:48:00</td>\n",
       "      <td>Hired</td>\n",
       "      <td>-</td>\n",
       "      <td>Service Department</td>\n",
       "      <td>i7</td>\n",
       "      <td>81757.0</td>\n",
       "    </tr>\n",
       "    <tr>\n",
       "      <th>17</th>\n",
       "      <td>742283</td>\n",
       "      <td>2014-05-02 08:11:00</td>\n",
       "      <td>Rejected</td>\n",
       "      <td>-</td>\n",
       "      <td>Service Department</td>\n",
       "      <td>i5</td>\n",
       "      <td>100.0</td>\n",
       "    </tr>\n",
       "    <tr>\n",
       "      <th>1600</th>\n",
       "      <td>227046</td>\n",
       "      <td>2014-08-27 18:08:00</td>\n",
       "      <td>Hired</td>\n",
       "      <td>-</td>\n",
       "      <td>Operations Department</td>\n",
       "      <td>b9</td>\n",
       "      <td>76730.0</td>\n",
       "    </tr>\n",
       "    <tr>\n",
       "      <th>1789</th>\n",
       "      <td>711350</td>\n",
       "      <td>2014-07-16 13:33:00</td>\n",
       "      <td>Rejected</td>\n",
       "      <td>-</td>\n",
       "      <td>Operations Department</td>\n",
       "      <td>c-10</td>\n",
       "      <td>25785.0</td>\n",
       "    </tr>\n",
       "    <tr>\n",
       "      <th>2876</th>\n",
       "      <td>835053</td>\n",
       "      <td>2014-05-16 18:34:00</td>\n",
       "      <td>Hired</td>\n",
       "      <td>-</td>\n",
       "      <td>Operations Department</td>\n",
       "      <td>c5</td>\n",
       "      <td>25583.0</td>\n",
       "    </tr>\n",
       "    <tr>\n",
       "      <th>3257</th>\n",
       "      <td>444043</td>\n",
       "      <td>2014-07-11 14:52:00</td>\n",
       "      <td>Hired</td>\n",
       "      <td>-</td>\n",
       "      <td>Sales Department</td>\n",
       "      <td>c5</td>\n",
       "      <td>80262.0</td>\n",
       "    </tr>\n",
       "    <tr>\n",
       "      <th>4016</th>\n",
       "      <td>352309</td>\n",
       "      <td>2014-08-20 10:38:00</td>\n",
       "      <td>Hired</td>\n",
       "      <td>-</td>\n",
       "      <td>Service Department</td>\n",
       "      <td>i5</td>\n",
       "      <td>4308.0</td>\n",
       "    </tr>\n",
       "    <tr>\n",
       "      <th>4124</th>\n",
       "      <td>204014</td>\n",
       "      <td>2014-08-09 16:09:00</td>\n",
       "      <td>Rejected</td>\n",
       "      <td>-</td>\n",
       "      <td>Purchase Department</td>\n",
       "      <td>c5</td>\n",
       "      <td>96396.0</td>\n",
       "    </tr>\n",
       "    <tr>\n",
       "      <th>4408</th>\n",
       "      <td>901867</td>\n",
       "      <td>2014-08-18 09:36:00</td>\n",
       "      <td>Rejected</td>\n",
       "      <td>-</td>\n",
       "      <td>Service Department</td>\n",
       "      <td>c5</td>\n",
       "      <td>22393.0</td>\n",
       "    </tr>\n",
       "    <tr>\n",
       "      <th>5558</th>\n",
       "      <td>937905</td>\n",
       "      <td>2014-08-08 19:29:00</td>\n",
       "      <td>Hired</td>\n",
       "      <td>-</td>\n",
       "      <td>Marketing Department</td>\n",
       "      <td>c9</td>\n",
       "      <td>94032.0</td>\n",
       "    </tr>\n",
       "    <tr>\n",
       "      <th>5605</th>\n",
       "      <td>564743</td>\n",
       "      <td>2014-08-28 10:25:00</td>\n",
       "      <td>Rejected</td>\n",
       "      <td>-</td>\n",
       "      <td>Production Department</td>\n",
       "      <td>c9</td>\n",
       "      <td>4076.0</td>\n",
       "    </tr>\n",
       "    <tr>\n",
       "      <th>5887</th>\n",
       "      <td>245473</td>\n",
       "      <td>2014-05-14 18:48:00</td>\n",
       "      <td>Hired</td>\n",
       "      <td>-</td>\n",
       "      <td>Service Department</td>\n",
       "      <td>c5</td>\n",
       "      <td>66948.0</td>\n",
       "    </tr>\n",
       "    <tr>\n",
       "      <th>6328</th>\n",
       "      <td>411295</td>\n",
       "      <td>2014-06-22 14:38:00</td>\n",
       "      <td>Hired</td>\n",
       "      <td>-</td>\n",
       "      <td>Operations Department</td>\n",
       "      <td>i1</td>\n",
       "      <td>98070.0</td>\n",
       "    </tr>\n",
       "    <tr>\n",
       "      <th>6656</th>\n",
       "      <td>487617</td>\n",
       "      <td>2014-05-30 16:29:00</td>\n",
       "      <td>Hired</td>\n",
       "      <td>-</td>\n",
       "      <td>Service Department</td>\n",
       "      <td>c8</td>\n",
       "      <td>12470.0</td>\n",
       "    </tr>\n",
       "    <tr>\n",
       "      <th>6996</th>\n",
       "      <td>827628</td>\n",
       "      <td>2014-08-30 15:51:00</td>\n",
       "      <td>Hired</td>\n",
       "      <td>-</td>\n",
       "      <td>Service Department</td>\n",
       "      <td>i1</td>\n",
       "      <td>3134.0</td>\n",
       "    </tr>\n",
       "  </tbody>\n",
       "</table>\n",
       "</div>"
      ],
      "text/plain": [
       "      application_id  Interview Taken on    Status event_name  \\\n",
       "15            195323 2014-05-09 12:48:00     Hired          -   \n",
       "17            742283 2014-05-02 08:11:00  Rejected          -   \n",
       "1600          227046 2014-08-27 18:08:00     Hired          -   \n",
       "1789          711350 2014-07-16 13:33:00  Rejected          -   \n",
       "2876          835053 2014-05-16 18:34:00     Hired          -   \n",
       "3257          444043 2014-07-11 14:52:00     Hired          -   \n",
       "4016          352309 2014-08-20 10:38:00     Hired          -   \n",
       "4124          204014 2014-08-09 16:09:00  Rejected          -   \n",
       "4408          901867 2014-08-18 09:36:00  Rejected          -   \n",
       "5558          937905 2014-08-08 19:29:00     Hired          -   \n",
       "5605          564743 2014-08-28 10:25:00  Rejected          -   \n",
       "5887          245473 2014-05-14 18:48:00     Hired          -   \n",
       "6328          411295 2014-06-22 14:38:00     Hired          -   \n",
       "6656          487617 2014-05-30 16:29:00     Hired          -   \n",
       "6996          827628 2014-08-30 15:51:00     Hired          -   \n",
       "\n",
       "                 Department Post Name  Offered Salary  \n",
       "15       Service Department        i7         81757.0  \n",
       "17       Service Department        i5           100.0  \n",
       "1600  Operations Department        b9         76730.0  \n",
       "1789  Operations Department      c-10         25785.0  \n",
       "2876  Operations Department        c5         25583.0  \n",
       "3257       Sales Department        c5         80262.0  \n",
       "4016     Service Department        i5          4308.0  \n",
       "4124    Purchase Department        c5         96396.0  \n",
       "4408     Service Department        c5         22393.0  \n",
       "5558   Marketing Department        c9         94032.0  \n",
       "5605  Production Department        c9          4076.0  \n",
       "5887     Service Department        c5         66948.0  \n",
       "6328  Operations Department        i1         98070.0  \n",
       "6656     Service Department        c8         12470.0  \n",
       "6996     Service Department        i1          3134.0  "
      ]
     },
     "execution_count": 6,
     "metadata": {},
     "output_type": "execute_result"
    }
   ],
   "source": [
    "# check the \" - \" value this also like a null values\n",
    "df[df['event_name'].astype(str).str.contains('-')]"
   ]
  },
  {
   "cell_type": "code",
   "execution_count": 7,
   "id": "330d598d",
   "metadata": {},
   "outputs": [
    {
     "data": {
      "text/html": [
       "<div>\n",
       "<style scoped>\n",
       "    .dataframe tbody tr th:only-of-type {\n",
       "        vertical-align: middle;\n",
       "    }\n",
       "\n",
       "    .dataframe tbody tr th {\n",
       "        vertical-align: top;\n",
       "    }\n",
       "\n",
       "    .dataframe thead th {\n",
       "        text-align: right;\n",
       "    }\n",
       "</style>\n",
       "<table border=\"1\" class=\"dataframe\">\n",
       "  <thead>\n",
       "    <tr style=\"text-align: right;\">\n",
       "      <th></th>\n",
       "      <th>application_id</th>\n",
       "      <th>Offered Salary</th>\n",
       "    </tr>\n",
       "  </thead>\n",
       "  <tbody>\n",
       "    <tr>\n",
       "      <th>count</th>\n",
       "      <td>7168.000000</td>\n",
       "      <td>7167.000000</td>\n",
       "    </tr>\n",
       "    <tr>\n",
       "      <th>mean</th>\n",
       "      <td>508648.534459</td>\n",
       "      <td>49983.029022</td>\n",
       "    </tr>\n",
       "    <tr>\n",
       "      <th>std</th>\n",
       "      <td>285146.164429</td>\n",
       "      <td>28854.176890</td>\n",
       "    </tr>\n",
       "    <tr>\n",
       "      <th>min</th>\n",
       "      <td>12073.000000</td>\n",
       "      <td>100.000000</td>\n",
       "    </tr>\n",
       "    <tr>\n",
       "      <th>25%</th>\n",
       "      <td>262283.500000</td>\n",
       "      <td>25460.500000</td>\n",
       "    </tr>\n",
       "    <tr>\n",
       "      <th>50%</th>\n",
       "      <td>508025.000000</td>\n",
       "      <td>49625.000000</td>\n",
       "    </tr>\n",
       "    <tr>\n",
       "      <th>75%</th>\n",
       "      <td>757345.250000</td>\n",
       "      <td>74438.000000</td>\n",
       "    </tr>\n",
       "    <tr>\n",
       "      <th>max</th>\n",
       "      <td>999936.000000</td>\n",
       "      <td>400000.000000</td>\n",
       "    </tr>\n",
       "  </tbody>\n",
       "</table>\n",
       "</div>"
      ],
      "text/plain": [
       "       application_id  Offered Salary\n",
       "count     7168.000000     7167.000000\n",
       "mean    508648.534459    49983.029022\n",
       "std     285146.164429    28854.176890\n",
       "min      12073.000000      100.000000\n",
       "25%     262283.500000    25460.500000\n",
       "50%     508025.000000    49625.000000\n",
       "75%     757345.250000    74438.000000\n",
       "max     999936.000000   400000.000000"
      ]
     },
     "execution_count": 7,
     "metadata": {},
     "output_type": "execute_result"
    }
   ],
   "source": [
    "#check some statistics values like MIN,MAX,STD etc\n",
    "df.describe()"
   ]
  },
  {
   "cell_type": "code",
   "execution_count": 8,
   "id": "89b49bec",
   "metadata": {},
   "outputs": [
    {
     "name": "stdout",
     "output_type": "stream",
     "text": [
      "<class 'pandas.core.frame.DataFrame'>\n",
      "RangeIndex: 7168 entries, 0 to 7167\n",
      "Data columns (total 7 columns):\n",
      " #   Column              Non-Null Count  Dtype         \n",
      "---  ------              --------------  -----         \n",
      " 0   application_id      7168 non-null   int64         \n",
      " 1   Interview Taken on  7168 non-null   datetime64[ns]\n",
      " 2   Status              7168 non-null   object        \n",
      " 3   event_name          7168 non-null   object        \n",
      " 4   Department          7168 non-null   object        \n",
      " 5   Post Name           7168 non-null   object        \n",
      " 6   Offered Salary      7167 non-null   float64       \n",
      "dtypes: datetime64[ns](1), float64(1), int64(1), object(4)\n",
      "memory usage: 392.1+ KB\n"
     ]
    }
   ],
   "source": [
    "#check some basic information of the data set like \"DATA TYPE\",\"VALUES\",\"COLUMNS NAME\"\n",
    "df.info()"
   ]
  },
  {
   "cell_type": "code",
   "execution_count": 9,
   "id": "5b21de3d",
   "metadata": {},
   "outputs": [
    {
     "data": {
      "text/plain": [
       "Male                 4085\n",
       "Female               2675\n",
       "Don’t want to say     393\n",
       "-                      15\n",
       "Name: event_name, dtype: int64"
      ]
     },
     "execution_count": 9,
     "metadata": {},
     "output_type": "execute_result"
    },
    {
     "data": {
      "image/png": "[encoded data removed]",
      "text/plain": [
       "<Figure size 432x288 with 1 Axes>"
      ]
     },
     "metadata": {
      "needs_background": "light"
     },
     "output_type": "display_data"
    }
   ],
   "source": [
    "#check how many aaplicant applied \n",
    "sns.countplot('event_name',data=df)\n",
    "plt.title('All Applicant Info',fontsize=20)\n",
    "df['event_name'].value_counts()"
   ]
  },
  {
   "cell_type": "code",
   "execution_count": 10,
   "id": "df7edb26",
   "metadata": {},
   "outputs": [
    {
     "data": {
      "text/plain": [
       "Hired       4697\n",
       "Rejected    2471\n",
       "Name: Status, dtype: int64"
      ]
     },
     "execution_count": 10,
     "metadata": {},
     "output_type": "execute_result"
    },
    {
     "data": {
      "image/png": "[encoded data removed]",
      "text/plain": [
       "<Figure size 432x288 with 1 Axes>"
      ]
     },
     "metadata": {
      "needs_background": "light"
     },
     "output_type": "display_data"
    }
   ],
   "source": [
    "#check total hired and reject\n",
    "sns.countplot('Status',hue=\"event_name\",data=df)\n",
    "plt.title('Hiring Distribution',fontsize=20)\n",
    "df['Status'].value_counts()"
   ]
  },
  {
   "cell_type": "markdown",
   "id": "fceb9a52",
   "metadata": {},
   "source": [
    "# find the outlier using box plot"
   ]
  },
  {
   "cell_type": "code",
   "execution_count": 11,
   "id": "35d6c384",
   "metadata": {},
   "outputs": [
    {
     "data": {
      "text/plain": [
       "<AxesSubplot:xlabel='event_name', ylabel='Offered Salary'>"
      ]
     },
     "execution_count": 11,
     "metadata": {},
     "output_type": "execute_result"
    },
    {
     "data": {
      "image/png": "[encoded data removed]",
      "text/plain": [
       "<Figure size 432x288 with 1 Axes>"
      ]
     },
     "metadata": {
      "needs_background": "light"
     },
     "output_type": "display_data"
    }
   ],
   "source": [
    "\n",
    "sns.boxplot(x=\"event_name\", y=\"Offered Salary\", data=df)"
   ]
  },
  {
   "cell_type": "code",
   "execution_count": 12,
   "id": "8ea9760c",
   "metadata": {},
   "outputs": [
    {
     "data": {
      "text/plain": [
       "application_id   -0.010293\n",
       "Offered Salary    0.361579\n",
       "dtype: float64"
      ]
     },
     "execution_count": 12,
     "metadata": {},
     "output_type": "execute_result"
    }
   ],
   "source": [
    "#check the skew in or data\n",
    "df.skew()"
   ]
  },
  {
   "cell_type": "code",
   "execution_count": 13,
   "id": "e01dc036",
   "metadata": {},
   "outputs": [
    {
     "data": {
      "text/plain": [
       "Department\n",
       "Finance Department           49628.006944\n",
       "General Management           58722.093023\n",
       "Human Resource Department    49002.278351\n",
       "Marketing Department         48489.935385\n",
       "Operations Department        49151.354385\n",
       "Production Department        49448.484211\n",
       "Purchase Department          52564.774775\n",
       "Sales Department             49310.380697\n",
       "Service Department           50629.884185\n",
       "Name: Offered Salary, dtype: float64"
      ]
     },
     "execution_count": 13,
     "metadata": {},
     "output_type": "execute_result"
    }
   ],
   "source": [
    "df.groupby('Department')['Offered Salary'].mean()"
   ]
  },
  {
   "cell_type": "code",
   "execution_count": 14,
   "id": "bac7ce27",
   "metadata": {},
   "outputs": [
    {
     "data": {
      "text/plain": [
       "Department\n",
       "Finance Department            99762.0\n",
       "General Management           400000.0\n",
       "Human Resource Department     98195.0\n",
       "Marketing Department          99828.0\n",
       "Operations Department         99948.0\n",
       "Production Department         99939.0\n",
       "Purchase Department           99522.0\n",
       "Sales Department              99824.0\n",
       "Service Department           200000.0\n",
       "Name: Offered Salary, dtype: float64"
      ]
     },
     "execution_count": 14,
     "metadata": {},
     "output_type": "execute_result"
    }
   ],
   "source": [
    "df.groupby('Department')['Offered Salary'].max()"
   ]
  },
  {
   "cell_type": "code",
   "execution_count": 15,
   "id": "f29b28e7",
   "metadata": {},
   "outputs": [
    {
     "data": {
      "text/plain": [
       "Department\n",
       "Finance Department           1038.0\n",
       "General Management           1022.0\n",
       "Human Resource Department    1415.0\n",
       "Marketing Department         1007.0\n",
       "Operations Department        1027.0\n",
       "Production Department        1210.0\n",
       "Purchase Department          1258.0\n",
       "Sales Department             1487.0\n",
       "Service Department            100.0\n",
       "Name: Offered Salary, dtype: float64"
      ]
     },
     "execution_count": 15,
     "metadata": {},
     "output_type": "execute_result"
    }
   ],
   "source": [
    "df.groupby('Department')['Offered Salary'].min()"
   ]
  },
  {
   "cell_type": "code",
   "execution_count": 16,
   "id": "e5672f02",
   "metadata": {},
   "outputs": [
    {
     "data": {
      "text/plain": [
       "400000.0"
      ]
     },
     "execution_count": 16,
     "metadata": {},
     "output_type": "execute_result"
    }
   ],
   "source": [
    "df['Offered Salary'].max()"
   ]
  },
  {
   "cell_type": "code",
   "execution_count": 17,
   "id": "9b276548",
   "metadata": {},
   "outputs": [
    {
     "data": {
      "text/plain": [
       "100.0"
      ]
     },
     "execution_count": 17,
     "metadata": {},
     "output_type": "execute_result"
    }
   ],
   "source": [
    "df['Offered Salary'].min()"
   ]
  },
  {
   "cell_type": "code",
   "execution_count": 18,
   "id": "d28a2b2f",
   "metadata": {},
   "outputs": [
    {
     "data": {
      "text/plain": [
       "49983.02902190596"
      ]
     },
     "execution_count": 18,
     "metadata": {},
     "output_type": "execute_result"
    }
   ],
   "source": [
    "df['Offered Salary'].mean()"
   ]
  },
  {
   "cell_type": "code",
   "execution_count": 19,
   "id": "f72be2e3",
   "metadata": {},
   "outputs": [
    {
     "data": {
      "text/plain": [
       "(array([2.838e+03, 2.961e+03, 1.365e+03, 0.000e+00, 1.000e+00, 0.000e+00,\n",
       "        0.000e+00, 1.000e+00, 0.000e+00, 1.000e+00]),\n",
       " array([1.0000e+02, 4.0090e+04, 8.0080e+04, 1.2007e+05, 1.6006e+05,\n",
       "        2.0005e+05, 2.4004e+05, 2.8003e+05, 3.2002e+05, 3.6001e+05,\n",
       "        4.0000e+05]),\n",
       " <BarContainer object of 10 artists>)"
      ]
     },
     "execution_count": 19,
     "metadata": {},
     "output_type": "execute_result"
    },
    {
     "data": {
      "image/png": "[encoded data removed]",
      "text/plain": [
       "<Figure size 432x288 with 1 Axes>"
      ]
     },
     "metadata": {
      "needs_background": "light"
     },
     "output_type": "display_data"
    }
   ],
   "source": [
    "plt.hist(df[\"Offered Salary\"])"
   ]
  },
  {
   "cell_type": "code",
   "execution_count": 20,
   "id": "89cec543",
   "metadata": {},
   "outputs": [
    {
     "data": {
      "text/plain": [
       "Hired       4697\n",
       "Rejected    2471\n",
       "Name: Status, dtype: int64"
      ]
     },
     "execution_count": 20,
     "metadata": {},
     "output_type": "execute_result"
    },
    {
     "data": {
      "image/png": "[encoded data removed]",
      "text/plain": [
       "<Figure size 432x288 with 1 Axes>"
      ]
     },
     "metadata": {
      "needs_background": "light"
     },
     "output_type": "display_data"
    }
   ],
   "source": [
    "sns.countplot('Status',hue='event_name',data=df)\n",
    "plt.title('Hiring Distribution',fontsize=20)\n",
    "df['Status'].value_counts()"
   ]
  },
  {
   "cell_type": "code",
   "execution_count": 21,
   "id": "e2e47b6c",
   "metadata": {},
   "outputs": [
    {
     "data": {
      "text/plain": [
       "Text(0.5, 1.0, 'post wise distribution')"
      ]
     },
     "execution_count": 21,
     "metadata": {},
     "output_type": "execute_result"
    },
    {
     "data": {
      "image/png": "[encoded data removed]",
      "text/plain": [
       "<Figure size 432x288 with 1 Axes>"
      ]
     },
     "metadata": {
      "needs_background": "light"
     },
     "output_type": "display_data"
    }
   ],
   "source": [
    "sns.countplot('Post Name',data=df)\n",
    "plt.title('post wise distribution',fontsize=30)\n"
   ]
  },
  {
   "cell_type": "code",
   "execution_count": 22,
   "id": "20c9d7d0",
   "metadata": {},
   "outputs": [
    {
     "data": {
      "text/plain": [
       "Index(['application_id', 'Interview Taken on', 'Status', 'event_name',\n",
       "       'Department', 'Post Name', 'Offered Salary'],\n",
       "      dtype='object')"
      ]
     },
     "execution_count": 22,
     "metadata": {},
     "output_type": "execute_result"
    }
   ],
   "source": [
    "df.columns"
   ]
  },
  {
   "cell_type": "code",
   "execution_count": 23,
   "id": "a7d2e0ca",
   "metadata": {},
   "outputs": [
    {
     "data": {
      "text/plain": [
       "Operations Department        2771\n",
       "Service Department           2055\n",
       "Sales Department              747\n",
       "Production Department         380\n",
       "Purchase Department           333\n",
       "Marketing Department          325\n",
       "Finance Department            288\n",
       "General Management            172\n",
       "Human Resource Department      97\n",
       "Name: Department, dtype: int64"
      ]
     },
     "execution_count": 23,
     "metadata": {},
     "output_type": "execute_result"
    },
    {
     "data": {
      "image/png": "[encoded data removed]",
      "text/plain": [
       "<Figure size 432x288 with 1 Axes>"
      ]
     },
     "metadata": {
      "needs_background": "light"
     },
     "output_type": "display_data"
    }
   ],
   "source": [
    "sns.countplot('Department',data=df)\n",
    "plt.title('Hiring Distribution',fontsize=20)\n",
    "df['Department'].value_counts()"
   ]
  },
  {
   "cell_type": "code",
   "execution_count": 24,
   "id": "c1d03075",
   "metadata": {},
   "outputs": [
    {
     "data": {
      "text/plain": [
       "<AxesSubplot:>"
      ]
     },
     "execution_count": 24,
     "metadata": {},
     "output_type": "execute_result"
    },
    {
     "data": {
      "image/png": "[encoded data removed]",
      "text/plain": [
       "<Figure size 720x360 with 2 Axes>"
      ]
     },
     "metadata": {
      "needs_background": "light"
     },
     "output_type": "display_data"
    }
   ],
   "source": [
    "plt.figure(figsize=(10,5))\n",
    "sns.heatmap(df.corr(),annot=True)"
   ]
  },
  {
   "cell_type": "code",
   "execution_count": 25,
   "id": "294ac615",
   "metadata": {},
   "outputs": [
    {
     "data": {
      "text/plain": [
       "c9      1792\n",
       "c5      1747\n",
       "i7       982\n",
       "i5       787\n",
       "i6       527\n",
       "b9       463\n",
       "c8       320\n",
       "c-10     232\n",
       "i1       222\n",
       "i4        88\n",
       "m6         3\n",
       "n6         1\n",
       "n9         1\n",
       "-          1\n",
       "n10        1\n",
       "m7         1\n",
       "Name: Post Name, dtype: int64"
      ]
     },
     "execution_count": 25,
     "metadata": {},
     "output_type": "execute_result"
    },
    {
     "data": {
      "image/png": "[encoded data removed]",
      "text/plain": [
       "<Figure size 432x288 with 1 Axes>"
      ]
     },
     "metadata": {
      "needs_background": "light"
     },
     "output_type": "display_data"
    }
   ],
   "source": [
    "sns.countplot('Post Name',data=df)\n",
    "plt.title('Hiring Distribution',fontsize=20)\n",
    "df['Post Name'].value_counts()"
   ]
  },
  {
   "cell_type": "code",
   "execution_count": 26,
   "id": "94a27ee2",
   "metadata": {},
   "outputs": [
    {
     "data": {
      "text/plain": [
       "application_id       AxesSubplot(0.125,0.657941;0.227941x0.222059)\n",
       "Offered Salary    AxesSubplot(0.398529,0.657941;0.227941x0.222059)\n",
       "dtype: object"
      ]
     },
     "execution_count": 26,
     "metadata": {},
     "output_type": "execute_result"
    },
    {
     "data": {
      "image/png": "[encoded data removed]",
      "text/plain": [
       "<Figure size 1800x1800 with 9 Axes>"
      ]
     },
     "metadata": {
      "needs_background": "light"
     },
     "output_type": "display_data"
    }
   ],
   "source": [
    "df.plot(kind='box',subplots=True,layout=(3,3),figsize=(25,25))"
   ]
  },
  {
   "cell_type": "code",
   "execution_count": 27,
   "id": "abf34b20",
   "metadata": {},
   "outputs": [
    {
     "data": {
      "text/plain": [
       "<AxesSubplot:xlabel='Post Name', ylabel='Offered Salary'>"
      ]
     },
     "execution_count": 27,
     "metadata": {},
     "output_type": "execute_result"
    },
    {
     "data": {
      "image/png": "[encoded data removed]",
      "text/plain": [
       "<Figure size 432x288 with 1 Axes>"
      ]
     },
     "metadata": {
      "needs_background": "light"
     },
     "output_type": "display_data"
    }
   ],
   "source": [
    "sns.boxplot(x=\"Post Name\",y=\"Offered Salary\",  data=df)"
   ]
  },
  {
   "cell_type": "code",
   "execution_count": 28,
   "id": "d84e17ca",
   "metadata": {},
   "outputs": [
    {
     "name": "stdout",
     "output_type": "stream",
     "text": [
      "application_id    495061.75\n",
      "Offered Salary     48977.50\n",
      "dtype: float64\n"
     ]
    }
   ],
   "source": [
    "Q1 = df.quantile(0.25)\n",
    "Q3 = df.quantile(0.75)\n",
    "IQR = Q3 - Q1\n",
    "print(IQR)"
   ]
  },
  {
   "cell_type": "code",
   "execution_count": 29,
   "id": "cdc54ce5",
   "metadata": {},
   "outputs": [
    {
     "ename": "NameError",
     "evalue": "name 'percentile75' is not defined",
     "output_type": "error",
     "traceback": [
      "\u001b[1;31m---------------------------------------------------------------------------\u001b[0m",
      "\u001b[1;31mNameError\u001b[0m                                 Traceback (most recent call last)",
      "\u001b[1;32m<ipython-input-29-74af3b2ae89b>\u001b[0m in \u001b[0;36m<module>\u001b[1;34m\u001b[0m\n\u001b[1;32m----> 1\u001b[1;33m \u001b[0mupper_limit\u001b[0m \u001b[1;33m=\u001b[0m \u001b[0mpercentile75\u001b[0m \u001b[1;33m+\u001b[0m \u001b[1;36m1.5\u001b[0m \u001b[1;33m*\u001b[0m \u001b[0mIQR\u001b[0m\u001b[1;33m\u001b[0m\u001b[1;33m\u001b[0m\u001b[0m\n\u001b[0m\u001b[0;32m      2\u001b[0m \u001b[0mlower_limit\u001b[0m \u001b[1;33m=\u001b[0m \u001b[0mpercentile25\u001b[0m \u001b[1;33m-\u001b[0m \u001b[1;36m1.5\u001b[0m \u001b[1;33m*\u001b[0m \u001b[0mIQR\u001b[0m\u001b[1;33m\u001b[0m\u001b[1;33m\u001b[0m\u001b[0m\n",
      "\u001b[1;31mNameError\u001b[0m: name 'percentile75' is not defined"
     ]
    }
   ],
   "source": [
    "upper_limit = percentile75 + 1.5 * IQR\n",
    "lower_limit = percentile25 - 1.5 * IQR"
   ]
  },
  {
   "cell_type": "code",
   "execution_count": 30,
   "id": "c62f3dca",
   "metadata": {},
   "outputs": [
    {
     "name": "stdout",
     "output_type": "stream",
     "text": [
      "10520.4\n",
      "89152.60000000002\n"
     ]
    }
   ],
   "source": [
    "print(df['Offered Salary'].quantile(0.10))\n",
    "print(df['Offered Salary'].quantile(0.90))"
   ]
  },
  {
   "cell_type": "code",
   "execution_count": 31,
   "id": "3fc8c4da",
   "metadata": {},
   "outputs": [],
   "source": [
    "df[\"Offered Salary\"] = np.where(df[\"Offered Salary\"] <10520.4, 10520.4,df['Offered Salary'])\n",
    "df[\"Offered Salary\"] = np.where(df[\"Offered Salary\"] >100000.0, 100000.0,df['Offered Salary'])"
   ]
  },
  {
   "cell_type": "code",
   "execution_count": 32,
   "id": "147624f3",
   "metadata": {},
   "outputs": [
    {
     "data": {
      "text/plain": [
       "0       56553.0\n",
       "1       22075.0\n",
       "2       70069.0\n",
       "3       10520.4\n",
       "4       29668.0\n",
       "         ...   \n",
       "7163    49282.0\n",
       "7164    57742.0\n",
       "7165    69932.0\n",
       "7166    14489.0\n",
       "7167    54201.0\n",
       "Name: Offered Salary, Length: 7168, dtype: float64"
      ]
     },
     "execution_count": 32,
     "metadata": {},
     "output_type": "execute_result"
    }
   ],
   "source": [
    "df[\"Offered Salary\"] "
   ]
  },
  {
   "cell_type": "code",
   "execution_count": 34,
   "id": "a25dee08",
   "metadata": {},
   "outputs": [
    {
     "data": {
      "text/plain": [
       "<AxesSubplot:xlabel='event_name', ylabel='Offered Salary'>"
      ]
     },
     "execution_count": 34,
     "metadata": {},
     "output_type": "execute_result"
    },
    {
     "data": {
      "image/png": "[encoded data removed]",
      "text/plain": [
       "<Figure size 432x288 with 1 Axes>"
      ]
     },
     "metadata": {
      "needs_background": "light"
     },
     "output_type": "display_data"
    }
   ],
   "source": [
    "sns.boxplot(x=\"event_name\", y=\"Offered Salary\", data=df)"
   ]
  },
  {
   "cell_type": "markdown",
   "id": "65c76313",
   "metadata": {},
   "source": [
    "# no outliers in our data"
   ]
  }
 ],
 "metadata": {
  "kernelspec": {
   "display_name": "Python 3",
   "language": "python",
   "name": "python3"
  },
  "language_info": {
   "codemirror_mode": {
    "name": "ipython",
    "version": 3
   },
   "file_extension": ".py",
   "mimetype": "text/x-python",
   "name": "python",
   "nbconvert_exporter": "python",
   "pygments_lexer": "ipython3",
   "version": "3.8.8"
  }
 },
 "nbformat": 4,
 "nbformat_minor": 5
}
